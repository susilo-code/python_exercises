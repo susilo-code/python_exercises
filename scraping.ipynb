{
 "cells": [
  {
   "cell_type": "code",
   "execution_count": 2,
   "id": "02a14c66",
   "metadata": {},
   "outputs": [
    {
     "name": "stdout",
     "output_type": "stream",
     "text": [
      "https://www.goal.com/id/daftar/fakta-unik-rekrutan-termahal-arsenal-declan-rice-liga-primer-west-ham-united/blt3049f5f41e61c37c#cs343d11706813af74\n",
      "200\n"
     ]
    }
   ],
   "source": [
    "import requests\n",
    "response = requests.get(\"https://www.goal.com/id/daftar/fakta-unik-rekrutan-termahal-arsenal-declan-rice-liga-primer-west-ham-united/blt3049f5f41e61c37c#cs343d11706813af74\")\n",
    "print(response.url)\n",
    "print(response.status_code)\n",
    "html_doc = response.content"
   ]
  },
  {
   "cell_type": "code",
   "execution_count": 3,
   "id": "e5de0f75",
   "metadata": {},
   "outputs": [],
   "source": [
    "from bs4 import BeautifulSoup\n",
    "soup = BeautifulSoup(html_doc,\"html.parser\")"
   ]
  },
  {
   "cell_type": "code",
   "execution_count": 4,
   "id": "6b004c9b",
   "metadata": {},
   "outputs": [
    {
     "data": {
      "text/plain": [
       "<title>Fakta Unik Tentang Rekrutan Termahal Arsenal Declan Rice | Goal.com Indonesia</title>"
      ]
     },
     "execution_count": 4,
     "metadata": {},
     "output_type": "execute_result"
    }
   ],
   "source": [
    "soup.title"
   ]
  },
  {
   "cell_type": "code",
   "execution_count": 8,
   "id": "bfbe07e0",
   "metadata": {},
   "outputs": [
    {
     "name": "stdout",
     "output_type": "stream",
     "text": [
      "Paragraf 1\n",
      "Segala hal yang perlu Anda tahu tentang pemain termahal Inggris dalam sejarah milik Arsenal!\n",
      "\n",
      "Paragraf 2\n",
      "Declan Rice adalah pesepakbola Inggris yang saat ini bermain untuk Arsenal di Liga Primer. Dia lahir pada 14 Januari 1999 di London, Inggris dan memulai karier profesionalnya bersama West Ham United pada 2017.\n",
      "\n",
      "Paragraf 3\n",
      "Rice menjadi terkenal setelah bersinar bersama West Ham selama beberapa musim terakhir, dan puncaknya di Euro 2020, di mana dia membantu Inggris mencapai final. Bermain sebagai gelandang bertahan, Rice tak hanya andal ketika memimpin pertahanan pertama, tetapi juga ketika membangun serangan. Akurasi umpan dan kemampuannya membaca permainan menjadi senjata pamungkasnya ketika membangun serangan dari tengah.\n",
      "\n",
      "Paragraf 4\n",
      "Selain itu, Rice juga dikenal sebagai pemimpin, baik di lapangan maupun di luar lapangan - membuatnya diangkat sebagai kapten West Ham pada Mei 2022 lalu - meski masih berusia 24 tahun.\n",
      "\n",
      "Paragraf 5\n",
      "Tetapi, apa saja 11 fakta unik tentang Declan Rice yang perlu Anda ketahui?\n",
      "\n"
     ]
    }
   ],
   "source": [
    "num = 1\n",
    "for par in soup.find_all('p'):\n",
    "    print(\"Paragraf \" + str(num))\n",
    "    print(par.get_text())\n",
    "    print()\n",
    "    num += 1"
   ]
  },
  {
   "cell_type": "code",
   "execution_count": 12,
   "id": "5d7018ab",
   "metadata": {},
   "outputs": [
    {
     "name": "stdout",
     "output_type": "stream",
     "text": [
      "<ul data-level=\"1\" data-testid=\"top-navigation-items-list\"><li><a href=\"https://www.goal.com/id/livescore\">Livescore</a></li><li><a href=\"https://www.goal.com/id/berita/1\">Semua Berita</a></li><li><a href=\"https://www.goal.com/id/kategori/transfer/1/k94w8e1yy9ch14mllpf4srnks\">TRANSFER</a></li><li><a href=\"https://www.goal.com/id/berita/jadwal-siaran-langsung-sepakbola/1qomojcjyge9n1nr2voxutdc1n\">Jadwal TV Hari Ini</a></li><li data-extendable=\"true\"><button>Kultur<!-- --> <i class=\"icons_icon__pYAh7 component-icon\" data-icon=\"table-down\" data-testid=\"icon\"></i></button><ul data-level=\"2\"><li><button>Jelajahi</button><ul data-level=\"3\"><li><a href=\"https://www.goal.com/id/kategori/tahukah-anda/1/bltb95c9335ff3579c3\">Tahukah Anda</a></li><li><a href=\"https://www.goal.com/id/kategori/travel/1/blt73a8a6c6cadfe51e\">Travel</a></li><li><a href=\"https://www.goal.com/id/kategori/kuliner/1/blt48e966308132c72c\">Kuliner</a></li><li><a href=\"https://www.goal.com/id/kategori/gaming/1sv3aw5srmki010flis5dpyze1\">Video Game</a></li><li><a href=\"https://www.goal.com/id/kategori/fitur-opini/1/rpux9itsa1271baslypn8ifq9\">Fitur &amp; Opini</a></li><li><a href=\"https://www.goal.com/id/kategori/nostalgia/1/bltdcf3bb3a8df2bdff\">Nostalgia</a></li></ul></li><li><button>NXGN</button><ul data-level=\"3\"><li><a href=\"https://www.goal.com/id/daftar/nxgn-2023-wonderkid-terbaik-dunia/bltae98bc6467544ef5\">Wonderkid 2023</a></li><li><a href=\"https://www.goal.com/id/daftar/nxgn-2022-inilah-50-wonderkid-terbaik-dunia/blt96be83590cb5f459\">Wonderkid 2022</a></li><li><a href=\"https://www.goal.com/id/daftar/nxgn-2021-25-wonderkid-terbaik-di-asia-tenggaraasean/bjqyg4v89zuu1ctx4m0llyg8r\">Wonderkid ASEAN 2021</a></li><li><a href=\"https://www.goal.com/id/daftar/nxgn-2021-50-wonderkid-terbaik-sepakbola/2os3t83c0o9g1opk2eit8t10l\">Wonderkid 2021</a></li><li><a href=\"https://www.goal.com/id/daftar/nxgn-2020-50-wonderkid-sepakbola-terbaik-dunia/rwl0xdmkn8v41eglbsuy8vwcm\">Wonderkid 2020</a></li><li><a href=\"https://www.goal.com/story/nxgn2019id/index.html\">Wonderkid 2019</a></li><li><a href=\"https://www.goal.com/id/daftar/nxgn-2018-50-bintang-remaja-terbaik-dunia/10ctxjh2mum3v1paqwok6d67zz\">Wonderkid 2018</a></li><li><a href=\"https://www.goal.com/id/galeri/nxgn-50-talenta-u-19-terbaik-di-dunia/1/ola3wdbqfidt1jbzs1pffab93\">Wonderkid 2017</a></li><li><a href=\"https://www.goal.com/id/daftar/nxgn-odegaard-dembele-tielemans-wonderkid-terbaik-2016/cv2icb5ppgre15opc8ugjf8bx\">Wonderkid 2016</a></li><li><a href=\"https://www.goal.com/id/kategori/nxgn/1/juicr0nzo8gr1d1fafit7a25z\">Berita Terbaru &amp; Profil</a></li></ul></li><li><button>Goal 50</button><ul data-level=\"3\"><li><a href=\"https://www.goal.com/id/daftar/goal50-2022-inilah-pemain-pria-terbaik-dunia-pilihan-anda/blt1da542bc7978e833\">2021-22</a></li><li><a href=\"https://www.goal.com/id/daftar/goal50-2021-pemain-pria-terbaik-dunia-messi-ronaldo-salah/blt45078fec11c5e18c\">2020-21</a></li><li><a href=\"https://www.goal.com/id/daftar/goal-50-2020-pemain-terbaik-dunia/1c89f74agrsp01q62soys2q2u4\">2019-20</a></li><li><a href=\"https://www.goal.com/story/goal-50-2019-id/index.html\">2018-19</a></li><li><a href=\"https://www.goal.com/story/goal502018id/index.html\">2017-18</a></li><li><a href=\"https://www.goal.com/story/goal-50-indonesian/index.html\">2016-17</a></li><li><a href=\"https://www.goal.com/id/kategori/goal-50/18tajqplzv5js13udmf4r7opfw\">Berita Terbaru</a></li></ul></li></ul></li><li data-extendable=\"true\"><button>Liga Inggris <!-- --> <i class=\"icons_icon__pYAh7 component-icon\" data-icon=\"table-down\" data-testid=\"icon\"></i></button><ul data-level=\"2\"><li><button>Info</button><ul data-level=\"3\"><li><a href=\"https://www.goal.com/id/liga-primer/tabel/2kwbbcootiqqgmrzs6o5inle5\">Klasemen</a></li><li><a href=\"https://www.goal.com/id/liga-primer/jadwal-hasil/2kwbbcootiqqgmrzs6o5inle5\">Jadwal &amp; Hasil</a></li><li><a href=\"https://www.goal.com/id/liga-primer/2kwbbcootiqqgmrzs6o5inle5\">Breaking News</a></li></ul></li><li><button>Klub</button><ul data-level=\"3\"><li><a href=\"https://www.goal.com/id/tim/manchester-united-fc/6eqit8ye8aomdsrrq0hk3v7gh\"><img alt=\"teams\" class=\"component-image-opta\" decoding=\"async\" height=\"30\" loading=\"lazy\" src=\"https://cdn.sportfeeds.io/soccer/images/teams/30x30/uuid_6eqit8ye8aomdsrrq0hk3v7gh.png?application=goal.com\" width=\"30\"/>Manchester United</a></li><li><a href=\"https://www.goal.com/id/tim/liverpool-fc/c8h9bw1l82s06h77xxrelzhur\"><img alt=\"teams\" class=\"component-image-opta\" decoding=\"async\" height=\"30\" loading=\"lazy\" src=\"https://cdn.sportfeeds.io/soccer/images/teams/30x30/uuid_c8h9bw1l82s06h77xxrelzhur.png?application=goal.com\" width=\"30\"/>Liverpool</a></li><li><a href=\"https://www.goal.com/id/tim/manchester-city-fc/a3nyxabgsqlnqfkeg41m6tnpp\"><img alt=\"teams\" class=\"component-image-opta\" decoding=\"async\" height=\"30\" loading=\"lazy\" src=\"https://cdn.sportfeeds.io/soccer/images/teams/30x30/uuid_a3nyxabgsqlnqfkeg41m6tnpp.png?application=goal.com\" width=\"30\"/>Manchester City</a></li><li><a href=\"https://www.goal.com/id/tim/chelsea-fc/9q0arba2kbnywth8bkxlhgmdr\"><img alt=\"teams\" class=\"component-image-opta\" decoding=\"async\" height=\"30\" loading=\"lazy\" src=\"https://cdn.sportfeeds.io/soccer/images/teams/30x30/uuid_9q0arba2kbnywth8bkxlhgmdr.png?application=goal.com\" width=\"30\"/>Chelsea</a></li><li><a href=\"https://www.goal.com/id/tim/arsenal-fc/4dsgumo7d4zupm2ugsvm4zm4d\"><img alt=\"teams\" class=\"component-image-opta\" decoding=\"async\" height=\"30\" loading=\"lazy\" src=\"https://cdn.sportfeeds.io/soccer/images/teams/30x30/uuid_4dsgumo7d4zupm2ugsvm4zm4d.png?application=goal.com\" width=\"30\"/>Arsenal</a></li><li><a href=\"https://www.goal.com/id/liga-primer/tabel/2kwbbcootiqqgmrzs6o5inle5\">Klub Lain</a></li></ul></li><li><button>Pemain</button><ul data-level=\"3\"><li><a href=\"https://www.goal.com/id/pemain/erling-haaland/atzboo800gv7gic2rgvgo0kq1\">Erling Haaland</a></li><li><a href=\"https://www.goal.com/id/pemain/mohamed-salah/5ilkkfbsss0bxd6ttdlqg0uz9\">Mohamed Salah</a></li><li><a href=\"https://www.goal.com/id/pemain/harry-kane/b9g4qurpll4wizajo95c406hh\">Harry Kane</a></li><li><a href=\"https://www.goal.com/id/pemain/raheem-sterling/e9l5r0txzrjbenli05rn3k4wl\">Raheem Sterling</a></li><li><a href=\"https://www.goal.com/id/pemain/gabriel-jesus/d66tmyj9pt69gub8pcjgo3bh1\">Gabriel Jesus</a></li></ul></li></ul></li><li data-extendable=\"true\"><button>Liga 1<!-- --> <i class=\"icons_icon__pYAh7 component-icon\" data-icon=\"table-down\" data-testid=\"icon\"></i></button><ul data-level=\"2\"><li><button>Info</button><ul data-level=\"3\"><li><a href=\"https://www.goal.com/id/liga-1/tabel/117yqo02rs8dykkxpm274w3bd\">Klasemen</a></li><li><a href=\"https://www.goal.com/id/liga-1/jadwal-hasil/117yqo02rs8dykkxpm274w3bd\">Jadwal &amp; Hasil</a></li><li><a href=\"https://www.goal.com/id/liga-1/117yqo02rs8dykkxpm274w3bd\">Breaking News</a></li></ul></li><li><button>Klub</button><ul data-level=\"3\"><li><a href=\"https://www.goal.com/id/tim/indonesia/3oht9gs0l91fikms2798i8c35\"><img alt=\"teams\" class=\"component-image-opta\" decoding=\"async\" height=\"30\" loading=\"lazy\" src=\"https://cdn.sportfeeds.io/soccer/images/teams/30x30/uuid_3oht9gs0l91fikms2798i8c35.png?application=goal.com\" width=\"30\"/>Timnas Indonesia</a></li><li><a href=\"https://www.goal.com/id/tim/persib/4hz9pkq1g1xwg6m8769runh4l\"><img alt=\"teams\" class=\"component-image-opta\" decoding=\"async\" height=\"30\" loading=\"lazy\" src=\"https://cdn.sportfeeds.io/soccer/images/teams/30x30/uuid_4hz9pkq1g1xwg6m8769runh4l.png?application=goal.com\" width=\"30\"/>Persib</a></li><li><a href=\"https://www.goal.com/id/tim/persija/9tso4j9g3bdtddj9n4byzod99\"><img alt=\"teams\" class=\"component-image-opta\" decoding=\"async\" height=\"30\" loading=\"lazy\" src=\"https://cdn.sportfeeds.io/soccer/images/teams/30x30/uuid_9tso4j9g3bdtddj9n4byzod99.png?application=goal.com\" width=\"30\"/>Persija</a></li><li><a href=\"https://www.goal.com/id/tim/arema/2gsrxhml9xzbr7zbw1mvlss5u\"><img alt=\"teams\" class=\"component-image-opta\" decoding=\"async\" height=\"30\" loading=\"lazy\" src=\"https://cdn.sportfeeds.io/soccer/images/teams/30x30/uuid_2gsrxhml9xzbr7zbw1mvlss5u.png?application=goal.com\" width=\"30\"/>Arema</a></li><li><a href=\"https://www.goal.com/id/tim/persebaya-surabaya/b48xfswheqa0tzbhexi17kbmi\"><img alt=\"teams\" class=\"component-image-opta\" decoding=\"async\" height=\"30\" loading=\"lazy\" src=\"https://cdn.sportfeeds.io/soccer/images/teams/30x30/uuid_b48xfswheqa0tzbhexi17kbmi.png?application=goal.com\" width=\"30\"/>Persebaya</a></li><li><a href=\"https://www.goal.com/id/liga-1/tabel/117yqo02rs8dykkxpm274w3bd\">Klub Lain</a></li></ul></li><li><button>Pemain</button><ul data-level=\"3\"><li><a href=\"https://www.goal.com/id/pemain/evan-dimas/6q84acoakji3816t2had0htqt\">Evan Dimas</a></li><li><a href=\"https://www.goal.com/id/pemain/egy-vikri/aghu12rduxporv7806od1yqqx\">Egy Maulana Vikri</a></li><li><a href=\"https://www.goal.com/id/pemain/witan-sulaeman/eb2c12wjwji5rf73n2biw3zzd\">Witan Sulaeman</a></li><li><a href=\"https://www.goal.com/id/pemain/pratama-arhan/6hh8scnndmmqvnnq53noc92sq\">Pratama Arhan</a></li><li><a href=\"https://www.goal.com/id/pemain/asnawi-bahar/5kl4mmodoeez2dy9r5vdqjf1l\">Asnawi Mangkualam</a></li></ul></li></ul></li><li data-extendable=\"true\"><button>Liga Champions<!-- --> <i class=\"icons_icon__pYAh7 component-icon\" data-icon=\"table-down\" data-testid=\"icon\"></i></button><ul data-level=\"2\"><li><button>Info</button><ul data-level=\"3\"><li><a href=\"https://www.goal.com/id/liga-champions/tabel/4oogyu6o156iphvdvphwpck10\">Klasemen</a></li><li><a href=\"https://www.goal.com/id/liga-champions/jadwal-hasil/4oogyu6o156iphvdvphwpck10\">Jadwal &amp; Hasil</a></li><li><a href=\"https://www.goal.com/id/liga-champions/4oogyu6o156iphvdvphwpck10\">Breaking News</a></li></ul></li><li><button>Klub</button><ul data-level=\"3\"><li><a href=\"https://www.goal.com/id/tim/real-madrid/3kq9cckrnlogidldtdie2fkbl\"><img alt=\"teams\" class=\"component-image-opta\" decoding=\"async\" height=\"30\" loading=\"lazy\" src=\"https://cdn.sportfeeds.io/soccer/images/teams/30x30/uuid_3kq9cckrnlogidldtdie2fkbl.png?application=goal.com\" width=\"30\"/>Real Madrid</a></li><li><a href=\"https://www.goal.com/id/tim/bayern-munich/apoawtpvac4zqlancmvw4nk4o\"><img alt=\"teams\" class=\"component-image-opta\" decoding=\"async\" height=\"30\" loading=\"lazy\" src=\"https://cdn.sportfeeds.io/soccer/images/teams/30x30/uuid_apoawtpvac4zqlancmvw4nk4o.png?application=goal.com\" width=\"30\"/>Bayern Munich</a></li><li><a href=\"https://www.goal.com/id/tim/liverpool-fc/c8h9bw1l82s06h77xxrelzhur\"><img alt=\"teams\" class=\"component-image-opta\" decoding=\"async\" height=\"30\" loading=\"lazy\" src=\"https://cdn.sportfeeds.io/soccer/images/teams/30x30/uuid_c8h9bw1l82s06h77xxrelzhur.png?application=goal.com\" width=\"30\"/>Liverpool</a></li><li><a href=\"https://www.goal.com/id/tim/juventus/bqbbqm98ud8obe45ds9ohgyrd\"><img alt=\"teams\" class=\"component-image-opta\" decoding=\"async\" height=\"30\" loading=\"lazy\" src=\"https://cdn.sportfeeds.io/soccer/images/teams/30x30/uuid_bqbbqm98ud8obe45ds9ohgyrd.png?application=goal.com\" width=\"30\"/>Juventus</a></li><li><a href=\"https://www.goal.com/id/tim/paris-saint-germain-fc/2b3mar72yy8d6uvat1ka6tn3r\"><img alt=\"teams\" class=\"component-image-opta\" decoding=\"async\" height=\"30\" loading=\"lazy\" src=\"https://cdn.sportfeeds.io/soccer/images/teams/30x30/uuid_2b3mar72yy8d6uvat1ka6tn3r.png?application=goal.com\" width=\"30\"/>PSG</a></li><li><a href=\"https://www.goal.com/id/liga-champions/tabel/4oogyu6o156iphvdvphwpck10\">Klub Lain</a></li></ul></li><li><button>Pemain</button><ul data-level=\"3\"><li><a href=\"https://www.goal.com/id/pemain/lionel-messi/c5ryhn04g9goikd0blmh83aol\">Lionel Messi</a></li><li><a href=\"https://www.goal.com/id/pemain/mohamed-salah/5ilkkfbsss0bxd6ttdlqg0uz9\">Mohamed Salah</a></li><li><a href=\"https://www.goal.com/id/pemain/kylian-mbapp%C3%A9/5e9ilgrz3tzg9kd1gk3yvrahh\">Kylian Mbappe</a></li><li><a href=\"https://www.goal.com/id/pemain/erling-haaland/atzboo800gv7gic2rgvgo0kq1\">Erling Haaland</a></li><li><a href=\"https://www.goal.com/id/pemain/neymar/779rrkp47akkd5usq53begatx\">Neymar</a></li></ul></li></ul></li><li><a href=\"https://en.goalstudio.com/\" rel=\"noreferrer noopener\" target=\"_blank\">GOALSTUDIO</a></li><li data-extendable=\"true\"><button>Lainnya<!-- --> <i class=\"icons_icon__pYAh7 component-icon\" data-icon=\"table-down\" data-testid=\"icon\"></i></button><ul data-level=\"2\"><li><button>Serie A</button><ul data-level=\"3\"><li><a href=\"https://www.goal.com/id/serie-a/tabel/1r097lpxe0xn03ihb7wi98kao\">Klasemen</a></li><li><a href=\"https://www.goal.com/id/serie-a/jadwal-hasil/1r097lpxe0xn03ihb7wi98kao\">Jadwal &amp; Hasil</a></li><li><a href=\"https://www.goal.com/id/serie-a/1r097lpxe0xn03ihb7wi98kao\">Berita</a></li><li><a href=\"https://www.goal.com/id/tim/juventus/bqbbqm98ud8obe45ds9ohgyrd\"><img alt=\"teams\" class=\"component-image-opta\" decoding=\"async\" height=\"30\" loading=\"lazy\" src=\"https://cdn.sportfeeds.io/soccer/images/teams/30x30/uuid_bqbbqm98ud8obe45ds9ohgyrd.png?application=goal.com\" width=\"30\"/>Juventus</a></li><li><a href=\"https://www.goal.com/id/tim/internazionale/3vo5mpj7catp66nrwwqiuhuup\"><img alt=\"teams\" class=\"component-image-opta\" decoding=\"async\" height=\"30\" loading=\"lazy\" src=\"https://cdn.sportfeeds.io/soccer/images/teams/30x30/uuid_3vo5mpj7catp66nrwwqiuhuup.png?application=goal.com\" width=\"30\"/>Inter </a></li><li><a href=\"https://www.goal.com/id/tim/milan/9dntj5dioj5ex52yrgwzxrq9l\"><img alt=\"teams\" class=\"component-image-opta\" decoding=\"async\" height=\"30\" loading=\"lazy\" src=\"https://cdn.sportfeeds.io/soccer/images/teams/30x30/uuid_9dntj5dioj5ex52yrgwzxrq9l.png?application=goal.com\" width=\"30\"/>Milan</a></li><li><a href=\"https://www.goal.com/id/pemain/romelu-lukaku/8qgbxff7xlg0zjtyees7ljljp\">Romelu Lukaku</a></li><li><a href=\"https://www.goal.com/id/pemain/zlatan-ibrahimovi%C4%87/9sbx7dlressy910i8uuztf93p\">Zlatan Ibrahimovic</a></li></ul></li><li><button>La Liga</button><ul data-level=\"3\"><li><a href=\"https://www.goal.com/id/laliga/tabel/34pl8szyvrbwcmfkuocjm3r6t\">Klasemen</a></li><li><a href=\"https://www.goal.com/id/laliga/jadwal-hasil/34pl8szyvrbwcmfkuocjm3r6t\">Jadwal &amp; Hasil</a></li><li><a href=\"https://www.goal.com/id/laliga/34pl8szyvrbwcmfkuocjm3r6t\">Berita</a></li><li><a href=\"https://www.goal.com/id/tim/real-madrid/3kq9cckrnlogidldtdie2fkbl\"><img alt=\"teams\" class=\"component-image-opta\" decoding=\"async\" height=\"30\" loading=\"lazy\" src=\"https://cdn.sportfeeds.io/soccer/images/teams/30x30/uuid_3kq9cckrnlogidldtdie2fkbl.png?application=goal.com\" width=\"30\"/>Real Madrid</a></li><li><a href=\"https://www.goal.com/id/tim/barcelona/agh9ifb2mw3ivjusgedj7c3fe\"><img alt=\"teams\" class=\"component-image-opta\" decoding=\"async\" height=\"30\" loading=\"lazy\" src=\"https://cdn.sportfeeds.io/soccer/images/teams/30x30/uuid_agh9ifb2mw3ivjusgedj7c3fe.png?application=goal.com\" width=\"30\"/>Barcelona</a></li><li><a href=\"https://www.goal.com/id/tim/atl%C3%A9tico-madrid/4ku8o6uf87yd8iecdalipo6wd\"><img alt=\"teams\" class=\"component-image-opta\" decoding=\"async\" height=\"30\" loading=\"lazy\" src=\"https://cdn.sportfeeds.io/soccer/images/teams/30x30/uuid_4ku8o6uf87yd8iecdalipo6wd.png?application=goal.com\" width=\"30\"/>Atletico Madrid</a></li><li><a href=\"https://www.goal.com/id/pemain/robert-lewandowski/afxjicw89683nlpms9yy5x51x\">Robert Lewandowski</a></li><li><a href=\"https://www.goal.com/id/pemain/karim-benzema/c1mm3hdfcs78obhxmhailzidx\">Karim Benzema</a></li></ul></li><li><button>Ligue 1</button><ul data-level=\"3\"><li><a href=\"https://www.goal.com/id/ligue-1/tabel/dm5ka0os1e3dxcp3vh05kmp33\">Klasemen</a></li><li><a href=\"https://www.goal.com/id/ligue-1/jadwal-hasil/dm5ka0os1e3dxcp3vh05kmp33\">Jadwal &amp; Hasil</a></li><li><a href=\"https://www.goal.com/id/ligue-1/dm5ka0os1e3dxcp3vh05kmp33\">Berita</a></li><li><a href=\"https://www.goal.com/id/tim/paris-saint-germain-fc/2b3mar72yy8d6uvat1ka6tn3r\"><img alt=\"teams\" class=\"component-image-opta\" decoding=\"async\" height=\"30\" loading=\"lazy\" src=\"https://cdn.sportfeeds.io/soccer/images/teams/30x30/uuid_2b3mar72yy8d6uvat1ka6tn3r.png?application=goal.com\" width=\"30\"/>PSG</a></li><li><a href=\"https://www.goal.com/id/pemain/lionel-messi/c5ryhn04g9goikd0blmh83aol\">Lionel Messi</a></li><li><a href=\"https://www.goal.com/id/pemain/kylian-mbapp%C3%A9/5e9ilgrz3tzg9kd1gk3yvrahh\">Kylian Mbappe</a></li><li><a href=\"https://www.goal.com/id/pemain/neymar/779rrkp47akkd5usq53begatx\">Neymar</a></li></ul></li><li><button>Bundesliga</button><ul data-level=\"3\"><li><a href=\"https://www.goal.com/id/bundesliga/tabel/6by3h89i2eykc341oz7lv1ddd\">Klasemen</a></li><li><a href=\"https://www.goal.com/id/bundesliga/jadwal-hasil/6by3h89i2eykc341oz7lv1ddd\">Jadwal &amp; Hasil</a></li><li><a href=\"https://www.goal.com/id/bundesliga/6by3h89i2eykc341oz7lv1ddd\">Berita</a></li><li><a href=\"https://www.goal.com/id/tim/bayern-munich/apoawtpvac4zqlancmvw4nk4o\"><img alt=\"teams\" class=\"component-image-opta\" decoding=\"async\" height=\"30\" loading=\"lazy\" src=\"https://cdn.sportfeeds.io/soccer/images/teams/30x30/uuid_apoawtpvac4zqlancmvw4nk4o.png?application=goal.com\" width=\"30\"/>Bayern Munich</a></li><li><a href=\"https://www.goal.com/id/tim/borussia-dortmund/dt4pinj0vw0t0cvz7za6mhmzy\"><img alt=\"teams\" class=\"component-image-opta\" decoding=\"async\" height=\"30\" loading=\"lazy\" src=\"https://cdn.sportfeeds.io/soccer/images/teams/30x30/uuid_dt4pinj0vw0t0cvz7za6mhmzy.png?application=goal.com\" width=\"30\"/>Borussia Dortmund</a></li><li><a href=\"https://www.goal.com/id/pemain/sadio-man%C3%A9/cotiiu6mjkfx5xa63nhfbdf4l\">Sadio Mane</a></li><li><a href=\"https://www.goal.com/id/pemain/marco-reus/btzfq6521zl3q5uqus8ltov6d\">Marco Reus</a></li></ul></li></ul></li></ul>\n"
     ]
    }
   ],
   "source": [
    "table = soup.find(\"ul\")\n",
    "print(table)"
   ]
  }
 ],
 "metadata": {
  "kernelspec": {
   "display_name": "Python 3 (ipykernel)",
   "language": "python",
   "name": "python3"
  },
  "language_info": {
   "codemirror_mode": {
    "name": "ipython",
    "version": 3
   },
   "file_extension": ".py",
   "mimetype": "text/x-python",
   "name": "python",
   "nbconvert_exporter": "python",
   "pygments_lexer": "ipython3",
   "version": "3.9.13"
  }
 },
 "nbformat": 4,
 "nbformat_minor": 5
}
